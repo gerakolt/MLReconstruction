{
 "cells": [
  {
   "cell_type": "code",
   "execution_count": 6,
   "id": "d49b627d-7aac-4a6f-962e-71a18d0aed7c",
   "metadata": {},
   "outputs": [],
   "source": [
    "import numpy as np\n",
    "from matplotlib import pyplot as plt\n",
    "from scipy.optimize import curve_fit\n",
    "%matplotlib qt\n",
    "file='Spot.npz'\n",
    "data=np.load(file)\n",
    "# Train_Loss=data['Train_Loss']\n",
    "Valid_Loss=data['Valid_Loss']\n",
    "Valid_Dis=data['Valid_Dis']\n",
    "Train_Dis=data['Train_Dis']\n",
    "bins=data['bins']\n",
    "\n",
    "\n",
    "plt.figure()\n",
    "plt.plot(Valid_Loss, '.-', label='valid loss')\n",
    "# plt.plot(Train_Loss, '.-', label='train loss')\n",
    "plt.legend()\n",
    "plt.yscale('log')\n",
    "\n",
    "def func(x, a,b,c):\n",
    "    return a*np.exp(-0.5*(x-b)**2/c**2)\n",
    "\n",
    "x=(0.5*(bins[1:]+bins[:-1])-0.5)/5\n",
    "p, cov = curve_fit(func, x, Valid_Dis)\n",
    "\n",
    "plt.figure()\n",
    "plt.title('Delay between the first simulated photon\\nand the first predicted photon', fontsize=15)\n",
    "plt.step(x, Valid_Dis, where='mid', label='valid')\n",
    "plt.plot(x, func(x, *p), '--',\n",
    "         label='fit, '+r'$\\mu=$'+'{}ns, '.format(np.round(p[1], decimals=3))+r'$\\sigma=$'+'{}ns'.format(np.round(p[2], decimals=3)))\n",
    "\n",
    "# plt.step((0.5*(bins[1:]+bins[:-1])-0.5), Train_Dis, where='mid', label='train')\n",
    "plt.legend()\n",
    "plt.xlim(-2,2)\n",
    "plt.xlabel('Time [ns]', fontsize=15)\n",
    "plt.show()"
   ]
  },
  {
   "cell_type": "code",
   "execution_count": 19,
   "id": "6a78bf81-d419-42fe-83e7-546eb125dcb7",
   "metadata": {},
   "outputs": [
    {
     "name": "stdout",
     "output_type": "stream",
     "text": [
      "False positive 0.013226665032996299\n",
      "False Negative 0.004824652782794314\n"
     ]
    }
   ],
   "source": [
    "import numpy as np\n",
    "from matplotlib import pyplot as plt\n",
    "%matplotlib qt\n",
    "file='Break.npz'\n",
    "data=np.load(file)\n",
    "Train_Loss=data['Train_Loss']\n",
    "Valid_Loss=data['Valid_Loss']\n",
    "Train_Corr_Signal=data['Train_Corr_Signal']\n",
    "Valid_Corr_Signal=data['Valid_Corr_Signal']\n",
    "Train_Corr_no_Signal=data['Train_Corr_no_Signal']\n",
    "Valid_Corr_no_Signal=data['Valid_Corr_no_Signal']\n",
    "\n",
    "print('False positive',1-np.mean(Valid_Corr_no_Signal[-100:]))\n",
    "print('False Negative',1-np.mean(Valid_Corr_Signal[-100:]))\n",
    "\n",
    "plt.figure()\n",
    "plt.plot(Valid_Loss, '.-', label='valid loss')\n",
    "plt.plot(Train_Loss, '.-', label='train loss')\n",
    "plt.legend()\n",
    "plt.yscale('log')\n",
    "\n",
    "plt.figure()\n",
    "plt.plot(Valid_Corr_Signal, '.-', label='valid corr sig')\n",
    "plt.plot(Train_Corr_Signal, '.-', label='train corr sig')\n",
    "plt.legend()\n",
    "plt.yscale('log')\n",
    "\n",
    "plt.figure()\n",
    "plt.plot(Valid_Corr_no_Signal, '.-', label='valid corr no sig')\n",
    "plt.plot(Train_Corr_no_Signal, '.-', label='train corr no sig')\n",
    "plt.legend()\n",
    "plt.yscale('log')\n",
    "plt.show()"
   ]
  },
  {
   "cell_type": "code",
   "execution_count": 18,
   "id": "0e616dd3-78ee-4e3e-8064-07e11c6f1194",
   "metadata": {},
   "outputs": [],
   "source": [
    "import numpy as np\n",
    "from matplotlib import pyplot as plt\n",
    "%matplotlib qt\n",
    "file='Recon.npz'\n",
    "data=np.load(file)\n",
    "Hist=data['Hist']\n",
    "bins=data['bins']\n",
    "Valid_Loss=data['Valid_Loss']\n",
    "\n",
    "plt.figure()\n",
    "plt.plot(Valid_Loss, '.-', label='valid loss')\n",
    "# plt.plot(Train_Loss, '.-', label='train loss')\n",
    "# plt.axhline(1.14)\n",
    "plt.legend()\n",
    "plt.yscale('log')\n",
    "\n",
    "plt.figure()\n",
    "plt.title('Predicted area / Simulated area of first PE', fontsize=15)\n",
    "\n",
    "def func(x, a,b,c):\n",
    "    return a*np.exp(-0.5*(x-b)**2/c**2)\n",
    "p, cov = curve_fit(func, x, Hist)\n",
    "plt.plot(x, func(x, *p), '--',\n",
    "         label='fit, '+r'$\\mu=$'+'{}, '.format(np.round(p[1], decimals=3))+r'$\\sigma=$'+'{}'.format(np.round(p[2], decimals=3)))\n",
    "\n",
    "x=0.5*(bins[1:]+bins[:-1])\n",
    "plt.step(x, Hist, where='mid')\n",
    "plt.legend()\n",
    "plt.show()"
   ]
  },
  {
   "cell_type": "code",
   "execution_count": null,
   "id": "868449d3-7a1d-4750-8839-0b8be9f9cba1",
   "metadata": {},
   "outputs": [],
   "source": []
  },
  {
   "cell_type": "code",
   "execution_count": null,
   "id": "ac3fd854-b878-42bd-87b2-05800e5d2ab7",
   "metadata": {},
   "outputs": [],
   "source": []
  }
 ],
 "metadata": {
  "kernelspec": {
   "display_name": "Python 3",
   "language": "python",
   "name": "python3"
  },
  "language_info": {
   "codemirror_mode": {
    "name": "ipython",
    "version": 3
   },
   "file_extension": ".py",
   "mimetype": "text/x-python",
   "name": "python",
   "nbconvert_exporter": "python",
   "pygments_lexer": "ipython3",
   "version": "3.8.5"
  }
 },
 "nbformat": 4,
 "nbformat_minor": 5
}
